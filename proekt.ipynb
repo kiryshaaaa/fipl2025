{
 "cells": [
  {
   "cell_type": "code",
   "execution_count": null,
   "metadata": {},
   "outputs": [
    {
     "name": "stderr",
     "output_type": "stream",
     "text": [
      "<>:12: SyntaxWarning: invalid escape sequence '\\w'\n",
      "<>:20: SyntaxWarning: invalid escape sequence '\\d'\n",
      "<>:12: SyntaxWarning: invalid escape sequence '\\w'\n",
      "<>:20: SyntaxWarning: invalid escape sequence '\\d'\n",
      "C:\\Users\\Kirill\\AppData\\Local\\Temp\\ipykernel_2104\\3515941204.py:12: SyntaxWarning: invalid escape sequence '\\w'\n",
      "  df['text_punct'] = df['text_lower'].str.replace('[^\\w\\s]',' ', regex=True)\n",
      "C:\\Users\\Kirill\\AppData\\Local\\Temp\\ipykernel_2104\\3515941204.py:20: SyntaxWarning: invalid escape sequence '\\d'\n",
      "  df['text_nonum'] = df['text_stop'].str.replace('\\d+', '')\n"
     ]
    }
   ],
   "source": [
    "##предварительная обработка текста\n",
    "import numpy as np\n",
    "import pandas as pd\n",
    "import re\n",
    "import nltk\n",
    "import string\n",
    "from nltk.corpus import stopwords\n",
    "\n",
    "##Чтение датасета с текстом\n",
    "df = pd.read_excel(r\"C:\\Users\\Kirill\\OneDrive\\Desktop\\study\\Технологии автоматической обработки текста\\myreviews.xlsx\")\n",
    "df['text_lower']  = df['Текст рецензии'].str.lower()\n",
    "df['text_punct'] = df['text_lower'].str.replace('[^\\w\\s]',' ', regex=True)\n",
    "STOPWORDS = set(stopwords.words('russian'))\n",
    "# функция, удаляющая стопслова из текстов\n",
    "\n",
    "def stopwords(text):\n",
    "    return \" \".join([word for word in str(text).split() if word not in STOPWORDS])\n",
    "# Применим функцию удаления стоп-слов\n",
    "df[\"text_stop\"] = df[\"text_punct\"].apply(stopwords)\n",
    "df['text_nonum'] = df['text_stop'].str.replace('\\d+', '')\n",
    "#Можно выполнить при помощи NLTK. Заодно проведем лемматизацию\n",
    "from pymorphy3 import MorphAnalyzer\n",
    "from nltk import sent_tokenize, word_tokenize, regexp_tokenize\n",
    "\n",
    "def tokenize_lemmas(sent, pat=r\"(?u)\\b\\w\\w+\\b\", morph=MorphAnalyzer()):\n",
    "    return [morph.parse(tok)[0].normal_form \n",
    "            for tok in regexp_tokenize(sent, pat)]\n",
    "df[\"text_lemm\"] = df[\"text_nonum\"].map(lambda x: \" \".join(tokenize_lemmas(x)))\n"
   ]
  },
  {
   "cell_type": "code",
   "execution_count": 19,
   "metadata": {},
   "outputs": [],
   "source": [
    "# Преобразование целевой переменной\n",
    "df['Target'] = df['Общая оценка'].apply(lambda x: 1 if x >= 70 else 0)\n",
    "\n",
    "# Выбор признаков\n",
    "X_text = df['text_lemm']\n",
    "y = df['Target']\n",
    "\n",
    "from sklearn.feature_extraction.text import TfidfVectorizer\n",
    "\n",
    "# Векторизация текста\n",
    "vectorizer = TfidfVectorizer(max_features=500)  # Ограничим количество признаков до 500\n",
    "X_text_transformed = vectorizer.fit_transform(X_text)\n",
    "\n",
    "from sklearn.model_selection import train_test_split\n",
    "\n",
    "X_train, X_test, y_train, y_test = train_test_split(\n",
    "    X_text_transformed, y, test_size=0.2, random_state=42\n",
    ")"
   ]
  },
  {
   "cell_type": "code",
   "execution_count": 20,
   "metadata": {},
   "outputs": [
    {
     "name": "stdout",
     "output_type": "stream",
     "text": [
      "Байесовский классификатор:\n",
      "Accuracy: 0.7522\n",
      "Precision: 0.7475\n",
      "Recall: 0.9931\n",
      "F1-score: 0.8530\n"
     ]
    }
   ],
   "source": [
    "from sklearn.naive_bayes import MultinomialNB\n",
    "from sklearn.metrics import accuracy_score, precision_score, recall_score, f1_score\n",
    "\n",
    "# Обучение модели\n",
    "nb_model = MultinomialNB()\n",
    "nb_model.fit(X_train, y_train)\n",
    "\n",
    "# Предсказания\n",
    "y_pred_nb = nb_model.predict(X_test)\n",
    "\n",
    "# Метрики\n",
    "print(\"Байесовский классификатор:\")\n",
    "print(f\"Accuracy: {accuracy_score(y_test, y_pred_nb):.4f}\")\n",
    "print(f\"Precision: {precision_score(y_test, y_pred_nb):.4f}\")\n",
    "print(f\"Recall: {recall_score(y_test, y_pred_nb):.4f}\")\n",
    "print(f\"F1-score: {f1_score(y_test, y_pred_nb):.4f}\")"
   ]
  },
  {
   "cell_type": "code",
   "execution_count": 21,
   "metadata": {},
   "outputs": [
    {
     "name": "stdout",
     "output_type": "stream",
     "text": [
      "\n",
      "Дерево решений:\n",
      "Accuracy: 0.7019\n",
      "Precision: 0.7940\n",
      "Recall: 0.7942\n",
      "F1-score: 0.7941\n"
     ]
    }
   ],
   "source": [
    "from sklearn.tree import DecisionTreeClassifier\n",
    "\n",
    "# Обучение модели\n",
    "tree_model = DecisionTreeClassifier(random_state=42)\n",
    "tree_model.fit(X_train, y_train)\n",
    "\n",
    "# Предсказания\n",
    "y_pred_tree = tree_model.predict(X_test)\n",
    "\n",
    "# Метрики\n",
    "print(\"Дерево решений:\")\n",
    "print(f\"Accuracy: {accuracy_score(y_test, y_pred_tree):.4f}\")\n",
    "print(f\"Precision: {precision_score(y_test, y_pred_tree):.4f}\")\n",
    "print(f\"Recall: {recall_score(y_test, y_pred_tree):.4f}\")\n",
    "print(f\"F1-score: {f1_score(y_test, y_pred_tree):.4f}\")"
   ]
  },
  {
   "cell_type": "code",
   "execution_count": 22,
   "metadata": {},
   "outputs": [
    {
     "name": "stdout",
     "output_type": "stream",
     "text": [
      "\n",
      "Случайный лес:\n",
      "Accuracy: 0.7856\n",
      "Precision: 0.7948\n",
      "Recall: 0.9487\n",
      "F1-score: 0.8650\n"
     ]
    }
   ],
   "source": [
    "from sklearn.ensemble import RandomForestClassifier\n",
    "\n",
    "# Обучение модели\n",
    "rf_model = RandomForestClassifier(random_state=42)\n",
    "rf_model.fit(X_train, y_train)\n",
    "\n",
    "# Предсказания\n",
    "y_pred_rf = rf_model.predict(X_test)\n",
    "\n",
    "# Метрики\n",
    "print(\"Случайный лес:\")\n",
    "print(f\"Accuracy: {accuracy_score(y_test, y_pred_rf):.4f}\")\n",
    "print(f\"Precision: {precision_score(y_test, y_pred_rf):.4f}\")\n",
    "print(f\"Recall: {recall_score(y_test, y_pred_rf):.4f}\")\n",
    "print(f\"F1-score: {f1_score(y_test, y_pred_rf):.4f}\")"
   ]
  },
  {
   "cell_type": "code",
   "execution_count": null,
   "metadata": {},
   "outputs": [
    {
     "name": "stdout",
     "output_type": "stream",
     "text": [
      "\n",
      "Логистическая регрессия:\n",
      "Accuracy: 0.8046\n",
      "Precision: 0.8273\n",
      "Recall: 0.9226\n",
      "F1-score: 0.8724\n"
     ]
    }
   ],
   "source": [
    "from sklearn.linear_model import LogisticRegression\n",
    "\n",
    "# Обучение модели\n",
    "lr_model = LogisticRegression(max_iter=1000, random_state=42)\n",
    "lr_model.fit(X_train, y_train)\n",
    "\n",
    "# Предсказания\n",
    "y_pred_lr = lr_model.predict(X_test)\n",
    "\n",
    "# Метрики\n",
    "print(\"Логистическая регрессия:\")\n",
    "print(f\"Accuracy: {accuracy_score(y_test, y_pred_lr):.4f}\")\n",
    "print(f\"Precision: {precision_score(y_test, y_pred_lr):.4f}\")\n",
    "print(f\"Recall: {recall_score(y_test, y_pred_lr):.4f}\")\n",
    "print(f\"F1-score: {f1_score(y_test, y_pred_lr):.4f}\")"
   ]
  },
  {
   "cell_type": "code",
   "execution_count": 24,
   "metadata": {},
   "outputs": [
    {
     "name": "stdout",
     "output_type": "stream",
     "text": [
      "Метод опорных векторов (SVM):\n",
      "Accuracy: 0.8044\n",
      "Precision: 0.8251\n",
      "Recall: 0.9262\n",
      "F1-score: 0.8727\n"
     ]
    }
   ],
   "source": [
    "from sklearn.svm import LinearSVC\n",
    "\n",
    "# Обучение модели\n",
    "svc_model = LinearSVC(random_state=42)\n",
    "svc_model.fit(X_train, y_train)\n",
    "\n",
    "# Предсказания\n",
    "y_pred_svc = svc_model.predict(X_test)\n",
    "\n",
    "# Метрики\n",
    "print(\"Метод опорных векторов (SVM):\")\n",
    "print(f\"Accuracy: {accuracy_score(y_test, y_pred_svc):.4f}\")\n",
    "print(f\"Precision: {precision_score(y_test, y_pred_svc):.4f}\")\n",
    "print(f\"Recall: {recall_score(y_test, y_pred_svc):.4f}\")\n",
    "print(f\"F1-score: {f1_score(y_test, y_pred_svc):.4f}\")"
   ]
  }
 ],
 "metadata": {
  "kernelspec": {
   "display_name": "Python 3",
   "language": "python",
   "name": "python3"
  },
  "language_info": {
   "codemirror_mode": {
    "name": "ipython",
    "version": 3
   },
   "file_extension": ".py",
   "mimetype": "text/x-python",
   "name": "python",
   "nbconvert_exporter": "python",
   "pygments_lexer": "ipython3",
   "version": "3.12.8"
  }
 },
 "nbformat": 4,
 "nbformat_minor": 4
}
